{
 "cells": [
  {
   "cell_type": "code",
   "execution_count": 2,
   "metadata": {},
   "outputs": [
    {
     "name": "stdout",
     "output_type": "stream",
     "text": [
      "C:\\Users\\HARSH VIJAY\\Traffic sign classification\n"
     ]
    }
   ],
   "source": [
    "cd C:\\Users\\HARSH VIJAY\\Traffic sign classification"
   ]
  },
  {
   "cell_type": "code",
   "execution_count": 3,
   "metadata": {},
   "outputs": [],
   "source": [
    "import numpy as np \n",
    "import pandas as pd \n",
    "import matplotlib.pyplot as plt\n",
    "import cv2\n",
    "import tensorflow as tf\n",
    "from PIL import Image\n",
    "import os\n",
    "from sklearn.model_selection import train_test_split\n",
    "from keras.utils import to_categorical\n",
    "from keras.models import Sequential, load_model\n",
    "from keras.layers import Conv2D, MaxPool2D, Dense, Flatten, Dropout\n",
    "\n",
    "data = []\n",
    "labels = []\n",
    "classes = 43\n",
    "cur_path = os.getcwd()\n",
    "\n",
    "#Retrieving the images and their labels \n",
    "for i in range(classes):\n",
    "    path = os.path.join(cur_path,'train',str(i))\n",
    "    images = os.listdir(path)\n",
    "\n",
    "    for a in images:\n",
    "        try:\n",
    "            image = Image.open(path + '\\\\'+ a)\n",
    "            image = image.resize((30,30))\n",
    "            image = np.array(image)\n",
    "            #sim = Image.fromarray(image)\n",
    "            data.append(image)\n",
    "            labels.append(i)\n",
    "        except:\n",
    "            print(\"Error loading image\")\n",
    "\n",
    "#Converting lists into numpy arrays\n",
    "data = np.array(data)\n",
    "labels = np.array(labels)"
   ]
  },
  {
   "cell_type": "code",
   "execution_count": 4,
   "metadata": {},
   "outputs": [
    {
     "name": "stdout",
     "output_type": "stream",
     "text": [
      "(39209, 30, 30, 3) (39209,)\n",
      "(31367, 30, 30, 3) (7842, 30, 30, 3) (31367,) (7842,)\n"
     ]
    }
   ],
   "source": [
    "print(data.shape, labels.shape)\n",
    "#Splitting training and testing dataset\n",
    "X_train, X_test, y_train, y_test = train_test_split(data, labels, test_size=0.2, random_state=42)\n",
    "\n",
    "print(X_train.shape, X_test.shape, y_train.shape, y_test.shape)\n",
    "\n",
    "#Converting the labels into one hot encoding\n",
    "y_train = to_categorical(y_train, 43)\n",
    "y_test = to_categorical(y_test, 43)"
   ]
  },
  {
   "cell_type": "code",
   "execution_count": 5,
   "metadata": {},
   "outputs": [],
   "source": [
    "#Building the model\n",
    "model = Sequential()\n",
    "model.add(Conv2D(filters=32, kernel_size=(5,5), activation='relu', input_shape=X_train.shape[1:]))\n",
    "model.add(Conv2D(filters=32, kernel_size=(5,5), activation='relu'))\n",
    "model.add(MaxPool2D(pool_size=(2, 2)))\n",
    "model.add(Dropout(rate=0.25))\n",
    "model.add(Conv2D(filters=64, kernel_size=(3, 3), activation='relu'))\n",
    "model.add(Conv2D(filters=64, kernel_size=(3, 3), activation='relu'))\n",
    "model.add(MaxPool2D(pool_size=(2, 2)))\n",
    "model.add(Dropout(rate=0.25))\n",
    "model.add(Flatten())\n",
    "model.add(Dense(256, activation='relu'))\n",
    "model.add(Dropout(rate=0.5))\n",
    "model.add(Dense(43, activation='softmax'))\n",
    "\n",
    "#Compilation of the model\n",
    "model.compile(loss='categorical_crossentropy', optimizer='adam', metrics=['accuracy'])\n"
   ]
  },
  {
   "cell_type": "code",
   "execution_count": 6,
   "metadata": {},
   "outputs": [
    {
     "name": "stdout",
     "output_type": "stream",
     "text": [
      "Train on 31367 samples, validate on 7842 samples\n",
      "Epoch 1/15\n",
      "31367/31367 [==============================] - 92s 3ms/step - loss: 2.2074 - accuracy: 0.4400 - val_loss: 0.6495 - val_accuracy: 0.8294\n",
      "Epoch 2/15\n",
      "31367/31367 [==============================] - 90s 3ms/step - loss: 0.8131 - accuracy: 0.7549 - val_loss: 0.2858 - val_accuracy: 0.9189\n",
      "Epoch 3/15\n",
      "31367/31367 [==============================] - 85s 3ms/step - loss: 0.5504 - accuracy: 0.8338 - val_loss: 0.2322 - val_accuracy: 0.9272\n",
      "Epoch 4/15\n",
      "31367/31367 [==============================] - 92s 3ms/step - loss: 0.4438 - accuracy: 0.8662 - val_loss: 0.1622 - val_accuracy: 0.9529\n",
      "Epoch 5/15\n",
      "31367/31367 [==============================] - 90s 3ms/step - loss: 0.3828 - accuracy: 0.8862 - val_loss: 0.1458 - val_accuracy: 0.9631\n",
      "Epoch 6/15\n",
      "31367/31367 [==============================] - 90s 3ms/step - loss: 0.3478 - accuracy: 0.8976 - val_loss: 0.1707 - val_accuracy: 0.9496\n",
      "Epoch 7/15\n",
      "31367/31367 [==============================] - 83s 3ms/step - loss: 0.3043 - accuracy: 0.9104 - val_loss: 0.0974 - val_accuracy: 0.9709\n",
      "Epoch 8/15\n",
      "31367/31367 [==============================] - 85s 3ms/step - loss: 0.3101 - accuracy: 0.9101 - val_loss: 0.0782 - val_accuracy: 0.9769\n",
      "Epoch 9/15\n",
      "31367/31367 [==============================] - 88s 3ms/step - loss: 0.2845 - accuracy: 0.9195 - val_loss: 0.0763 - val_accuracy: 0.9793\n",
      "Epoch 10/15\n",
      "31367/31367 [==============================] - 85s 3ms/step - loss: 0.2642 - accuracy: 0.9231 - val_loss: 0.0982 - val_accuracy: 0.9727\n",
      "Epoch 11/15\n",
      "31367/31367 [==============================] - 89s 3ms/step - loss: 0.2960 - accuracy: 0.9188 - val_loss: 0.0805 - val_accuracy: 0.9756\n",
      "Epoch 12/15\n",
      "31367/31367 [==============================] - 89s 3ms/step - loss: 0.2585 - accuracy: 0.9270 - val_loss: 0.0813 - val_accuracy: 0.9748\n",
      "Epoch 13/15\n",
      "31367/31367 [==============================] - 90s 3ms/step - loss: 0.2662 - accuracy: 0.9247 - val_loss: 0.0783 - val_accuracy: 0.9764\n",
      "Epoch 14/15\n",
      "31367/31367 [==============================] - 88s 3ms/step - loss: 0.2398 - accuracy: 0.9338 - val_loss: 0.0813 - val_accuracy: 0.9755\n",
      "Epoch 15/15\n",
      "31367/31367 [==============================] - 91s 3ms/step - loss: 0.2524 - accuracy: 0.9295 - val_loss: 0.1561 - val_accuracy: 0.9542\n"
     ]
    }
   ],
   "source": [
    "epochs = 15\n",
    "history = model.fit(X_train, y_train, batch_size=32, epochs=epochs, validation_data=(X_test, y_test))\n",
    "model.save(\"my_model.h5\")"
   ]
  },
  {
   "cell_type": "code",
   "execution_count": 7,
   "metadata": {},
   "outputs": [
    {
     "data": {
      "image/png": "[encoded data removed]",
      "text/plain": [
       "<Figure size 432x288 with 1 Axes>"
      ]
     },
     "metadata": {
      "needs_background": "light"
     },
     "output_type": "display_data"
    },
    {
     "data": {
      "image/png": "[encoded data removed]",
      "text/plain": [
       "<Figure size 432x288 with 1 Axes>"
      ]
     },
     "metadata": {
      "needs_background": "light"
     },
     "output_type": "display_data"
    }
   ],
   "source": [
    "#plotting graphs for accuracy \n",
    "plt.figure(0)\n",
    "plt.plot(history.history['accuracy'], label='training accuracy')\n",
    "plt.plot(history.history['val_accuracy'], label='val accuracy')\n",
    "plt.title('Accuracy')\n",
    "plt.xlabel('epochs')\n",
    "plt.ylabel('accuracy')\n",
    "plt.legend()\n",
    "plt.show()\n",
    "\n",
    "plt.figure(1)\n",
    "plt.plot(history.history['loss'], label='training loss')\n",
    "plt.plot(history.history['val_loss'], label='val loss')\n",
    "plt.title('Loss')\n",
    "plt.xlabel('epochs')\n",
    "plt.ylabel('loss')\n",
    "plt.legend()\n",
    "plt.show()"
   ]
  },
  {
   "cell_type": "code",
   "execution_count": 8,
   "metadata": {},
   "outputs": [
    {
     "name": "stdout",
     "output_type": "stream",
     "text": [
      "0.9145684877276327\n"
     ]
    }
   ],
   "source": [
    "#testing accuracy on test dataset\n",
    "from sklearn.metrics import accuracy_score\n",
    "\n",
    "y_test = pd.read_csv('Test.csv')\n",
    "\n",
    "labels = y_test[\"ClassId\"].values\n",
    "imgs = y_test[\"Path\"].values\n",
    "\n",
    "data=[]\n",
    "\n",
    "for img in imgs:\n",
    "    image = Image.open(img)\n",
    "    image = image.resize((30,30))\n",
    "    data.append(np.array(image))\n",
    "\n",
    "X_test=np.array(data)\n",
    "\n",
    "pred = model.predict_classes(X_test)\n",
    "\n",
    "#Accuracy with the test data\n",
    "from sklearn.metrics import accuracy_score\n",
    "print(accuracy_score(labels, pred))\n"
   ]
  },
  {
   "cell_type": "code",
   "execution_count": 10,
   "metadata": {},
   "outputs": [],
   "source": [
    "model.save(\"traffic_classifier.h5\")"
   ]
  },
  {
   "cell_type": "code",
   "execution_count": null,
   "metadata": {},
   "outputs": [],
   "source": []
  }
 ],
 "metadata": {
  "kernelspec": {
   "display_name": "Python 3",
   "language": "python",
   "name": "python3"
  },
  "language_info": {
   "codemirror_mode": {
    "name": "ipython",
    "version": 3
   },
   "file_extension": ".py",
   "mimetype": "text/x-python",
   "name": "python",
   "nbconvert_exporter": "python",
   "pygments_lexer": "ipython3",
   "version": "3.7.4"
  }
 },
 "nbformat": 4,
 "nbformat_minor": 2
}
